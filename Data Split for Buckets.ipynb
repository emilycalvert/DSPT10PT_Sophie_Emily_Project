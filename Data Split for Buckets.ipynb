{
 "cells": [
  {
   "cell_type": "code",
   "execution_count": 6,
   "id": "b35e256c",
   "metadata": {},
   "outputs": [],
   "source": [
    "import os\n",
    "import shutil\n",
    "from sklearn.model_selection import train_test_split\n",
    "\n",
    "# List of classes\n",
    "classes = ['desert', 'green_area', 'water', 'cloudy']\n",
    "\n",
    "# Paths\n",
    "source_dir = \"C:/Users/calve/Downloads/satdata/data/source\"\n",
    "train_dir = \"C:/Users/calve/Downloads/satdata/data/train\"\n",
    "val_dir = \"C:/Users/calve/Downloads/satdata/data/validate\"\n",
    "test_dir = \"C:/Users/calve/Downloads/satdata/data/test\"\n",
    "\n",
    "# Loop over classes\n",
    "for class_name in classes:\n",
    "    class_source_dir = os.path.join(source_dir, class_name)  # Path to class folder\n",
    "\n",
    "    # Get the list of images in the class folder\n",
    "    images = os.listdir(class_source_dir)\n",
    "\n",
    "    # Split into train and temporary set\n",
    "    train_images, temp_images = train_test_split(images, test_size=0.4, random_state=42)\n",
    "\n",
    "    # Split temporary set into validation and test sets\n",
    "    val_images, test_images = train_test_split(temp_images, test_size=0.5, random_state=42)\n",
    "\n",
    "    # Create destination directories if they don't exist\n",
    "    train_class_dir = os.path.join(train_dir, class_name)\n",
    "    val_class_dir = os.path.join(val_dir, class_name)\n",
    "    test_class_dir = os.path.join(test_dir, class_name)\n",
    "\n",
    "    os.makedirs(train_class_dir, exist_ok=True)\n",
    "    os.makedirs(val_class_dir, exist_ok=True)\n",
    "    os.makedirs(test_class_dir, exist_ok=True)\n",
    "\n",
    "    # Move training images\n",
    "    for image in train_images:\n",
    "        source_path = os.path.join(class_source_dir, image)\n",
    "        destination_path = os.path.join(train_class_dir, image)\n",
    "        shutil.move(source_path, destination_path)\n",
    "\n",
    "    # Move validation images\n",
    "    for image in val_images:\n",
    "        source_path = os.path.join(class_source_dir, image)\n",
    "        destination_path = os.path.join(val_class_dir, image)\n",
    "        shutil.move(source_path, destination_path)\n",
    "\n",
    "    # Move test images\n",
    "    for image in test_images:\n",
    "        source_path = os.path.join(class_source_dir, image)\n",
    "        destination_path = os.path.join(test_class_dir, image)\n",
    "        shutil.move(source_path, destination_path)"
   ]
  }
 ],
 "metadata": {
  "kernelspec": {
   "display_name": "Python 3 (ipykernel)",
   "language": "python",
   "name": "python3"
  },
  "language_info": {
   "codemirror_mode": {
    "name": "ipython",
    "version": 3
   },
   "file_extension": ".py",
   "mimetype": "text/x-python",
   "name": "python",
   "nbconvert_exporter": "python",
   "pygments_lexer": "ipython3",
   "version": "3.9.13"
  }
 },
 "nbformat": 4,
 "nbformat_minor": 5
}
